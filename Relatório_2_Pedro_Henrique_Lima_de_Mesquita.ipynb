{
  "cells": [
    {
      "cell_type": "markdown",
      "metadata": {
        "id": "view-in-github",
        "colab_type": "text"
      },
      "source": [
        "<a href=\"https://colab.research.google.com/github/pepemesquita/CNC/blob/main/Relat%C3%B3rio_2_Pedro_Henrique_Lima_de_Mesquita.ipynb\" target=\"_parent\"><img src=\"https://colab.research.google.com/assets/colab-badge.svg\" alt=\"Open In Colab\"/></a>"
      ]
    },
    {
      "cell_type": "markdown",
      "metadata": {
        "id": "Kwiqv_wWAnQO"
      },
      "source": [
        "#**Relatório 2 - Sistemas de Equações Lineares**\n",
        "Aluno: Pedro Henrique Lima de Mesquita\n",
        "\n",
        "Matricula: 20200862\n"
      ]
    },
    {
      "cell_type": "markdown",
      "metadata": {
        "id": "0qiGKTDMD-M5"
      },
      "source": [
        "#Imports"
      ]
    },
    {
      "cell_type": "code",
      "execution_count": null,
      "metadata": {
        "id": "IBaB7_ydsCKC"
      },
      "outputs": [],
      "source": [
        "import sympy as sp\n",
        "import matplotlib.pyplot as plt\n",
        "import numpy as np\n",
        "import time\n",
        "import psutil\n",
        "import math"
      ]
    },
    {
      "cell_type": "markdown",
      "metadata": {
        "id": "bwTOwOCPAtgp"
      },
      "source": [
        "#Métodos"
      ]
    },
    {
      "cell_type": "markdown",
      "source": [
        "##Eliminação-Gauss"
      ],
      "metadata": {
        "id": "ZrWpKGEvSZQp"
      }
    },
    {
      "cell_type": "code",
      "source": [
        "def gauss(n, A, b):\n",
        "  det = 1\n",
        "  info = 0\n",
        "\n",
        "  for j in range(n - 1):\n",
        "      p = j\n",
        "      Amax = abs(A[j][j])\n",
        "\n",
        "      for k in range(j + 1, n):\n",
        "          if abs(A[k][j]) > Amax:\n",
        "              Amax = abs(A[k][j])\n",
        "              p = k\n",
        "\n",
        "      if p != j:\n",
        "          for k in range(n):\n",
        "              t = A[j][k]\n",
        "              A[j][k] = A[p][k]\n",
        "              A[p][k] = t\n",
        "\n",
        "          det = det * A[j][j]\n",
        "\n",
        "      if abs(A[j][j]) != 0:\n",
        "          r = 1 / A[j][j]\n",
        "\n",
        "          for i in range(j + 1, n):\n",
        "              mult = A[i][j] * r\n",
        "              A[i][j] = 0\n",
        "\n",
        "              for k in range(j + 1, n):\n",
        "                A[i][k] = A[i][k] - mult * A[j][k]\n",
        "\n",
        "              b[i] = b[i] - mult * b[j]\n",
        "\n",
        "  if info == 0 and abs(A[n-1][n-1]) == 0:\n",
        "      info = n\n",
        "\n",
        "  return A, b, det, info\n",
        "\n",
        "\n",
        "\n",
        "# Exemplo de uso\n",
        "n = 3\n",
        "A = [[1, -1, 6], [-3, -1, 2], [ -2, 1, 2]]\n",
        "b = [8, -11, -3]\n",
        "\n",
        "result = gauss(n, A, b)\n",
        "\n",
        "if result:\n",
        "    matriz_gauss = np.matrix(result[0])\n",
        "    vetor = result[1]\n",
        "    determinante = result[2]\n",
        "    info = result[3]\n",
        "\n",
        "    print(f\"Matriz Gauss:\\n{matriz_gauss}\\n\")\n",
        "\n",
        "    print(f\"Vetor transformado b: {vetor}\\n\")\n",
        "\n",
        "    print(f\"Determinante: {determinante}\\n\")\n",
        "\n",
        "    print(f\"Info: {info}\")\n"
      ],
      "metadata": {
        "colab": {
          "base_uri": "https://localhost:8080/"
        },
        "id": "cHjHBu0lYK_a",
        "outputId": "428587d1-9e1c-4156-ceb0-1979e8984f2c"
      },
      "execution_count": null,
      "outputs": [
        {
          "output_type": "stream",
          "name": "stdout",
          "text": [
            "Matriz Gauss:\n",
            "[[-3.         -1.          2.        ]\n",
            " [ 0.          1.66666667  0.66666667]\n",
            " [ 0.          0.          7.2       ]]\n",
            "\n",
            "Vetor transformado b: [8, -8.333333333333334, -15.0]\n",
            "\n",
            "Determinante: -5.0\n",
            "\n",
            "Info: 0\n"
          ]
        }
      ]
    },
    {
      "cell_type": "markdown",
      "source": [
        "##Decomposição-LU"
      ],
      "metadata": {
        "id": "0o76ydOoSg9Z"
      }
    },
    {
      "cell_type": "code",
      "source": [
        "def decomposicao(m, n, A):\n",
        "    pivo = list(range(m))  # Corrigido: inicializar a lista de pivôs\n",
        "    pdu = 1\n",
        "    info = 0\n",
        "\n",
        "    for j in range(min(m, n)):  # Corrigido: limite superior do loop\n",
        "        p = j\n",
        "        Amax = abs(A[j][j])\n",
        "\n",
        "        for k in range(j + 1, m):\n",
        "            if abs(A[k][j]) > Amax:\n",
        "                Amax = abs(A[k][j])\n",
        "                p = k\n",
        "\n",
        "        if p != j:\n",
        "            for k in range(n):  # Corrigido: ajustar o loop para incluir todas as colunas\n",
        "                t = A[j][k]\n",
        "                A[j][k] = A[p][k]\n",
        "                A[p][k] = t\n",
        "            i = pivo[j]\n",
        "            pivo[j] = pivo[p]\n",
        "            pivo[p] = i\n",
        "            pdu = -pdu\n",
        "\n",
        "        pdu = pdu * A[j][j]\n",
        "\n",
        "        if abs(A[j][j]) != 0:\n",
        "            r = 1 / A[j][j]\n",
        "\n",
        "            for i in range(j + 1, m):  # Corrigido: limite superior do loop\n",
        "                mult = A[i][j] * r\n",
        "                A[i][j] = mult\n",
        "\n",
        "                for k in range(j + 1, n):\n",
        "                    A[i][k] = A[i][k] - mult * A[j][k]\n",
        "\n",
        "        else:\n",
        "            if info == 0:\n",
        "                info = j\n",
        "\n",
        "    return A, pivo, pdu, info\n",
        "\n",
        "# Exemplo de uso:\n",
        "m = 3\n",
        "n = 3\n",
        "A = [[1, -1, 6], [-3, -1, 2], [ -2, 1, 2]]\n",
        "result = decomposicao(m, n, A)\n",
        "\n",
        "if result:\n",
        "    matriz_decomposicao = np.matrix(result[0])\n",
        "    pivo = (result[1])\n",
        "    pdu = (result[2])\n",
        "    info = (result[3])\n",
        "\n",
        "    print(f\"Matriz de Decomposição:\\n{matriz_decomposicao}\\n\")\n",
        "    print(f\"Pivo: {pivo}\\n\")\n",
        "    print(f\"PDU: {pdu}\\n\")\n",
        "    print(f\"Info: {info}\")"
      ],
      "metadata": {
        "colab": {
          "base_uri": "https://localhost:8080/"
        },
        "id": "TzwWaZR6ihQ0",
        "outputId": "a480f671-c88c-479a-9773-8075478f6750"
      },
      "execution_count": null,
      "outputs": [
        {
          "output_type": "stream",
          "name": "stdout",
          "text": [
            "Matriz de Decomposição:\n",
            "[[-3.         -1.          2.        ]\n",
            " [ 0.66666667  1.66666667  0.66666667]\n",
            " [-0.33333333 -0.8         7.2       ]]\n",
            "\n",
            "Pivo: [1, 2, 0]\n",
            "\n",
            "PDU: -36.0\n",
            "\n",
            "Info: 0\n"
          ]
        }
      ]
    },
    {
      "cell_type": "markdown",
      "source": [
        "##Cholesky"
      ],
      "metadata": {
        "id": "BrtFNairSmyJ"
      }
    },
    {
      "cell_type": "code",
      "source": [
        "import math\n",
        "\n",
        "def cholesky(n, A):\n",
        "    det = 1\n",
        "    info = 0\n",
        "\n",
        "    for j in range(n):\n",
        "        soma = 0\n",
        "\n",
        "        for k in range(j):\n",
        "            soma += A[j][k] * A[j][k]\n",
        "\n",
        "        t = A[j][j] - soma\n",
        "\n",
        "        if t > 0:\n",
        "            A[j][j] = math.sqrt(t)\n",
        "            r = 1 / A[j][j]\n",
        "            det *= t\n",
        "        else:\n",
        "            info = j\n",
        "            print(\"Matriz não é definida positiva\")\n",
        "            return None  # Retorna None em caso de falha\n",
        "\n",
        "        for i in range(j + 1, n):\n",
        "            soma = 0\n",
        "\n",
        "            for k in range(j):\n",
        "                soma += A[i][k] * A[j][k]\n",
        "\n",
        "            A[i][j] = (A[i][j] - soma) * r\n",
        "\n",
        "    return A, det, info\n",
        "\n",
        "\n",
        "n = 3\n",
        "A = [[4, 12, -16], [12, 37, -43], [-16, -43, 98]]\n",
        "\n",
        "result = cholesky(n, A)\n",
        "\n",
        "if result:\n",
        "    matriz_cholesky = np.matrix(result[0])\n",
        "    determinante = result[1]\n",
        "    info = result[2]\n",
        "\n",
        "    print(f\"Matriz de Cholesky:\\n{matriz_cholesky}\\n\")\n",
        "    print(f\"Determinante: {determinante}\\n\")\n",
        "    print(f\"Info: {info}\")"
      ],
      "metadata": {
        "colab": {
          "base_uri": "https://localhost:8080/"
        },
        "id": "lMvR01dOraeU",
        "outputId": "45528970-b37a-4eef-b4b3-b5940a040e17"
      },
      "execution_count": null,
      "outputs": [
        {
          "output_type": "stream",
          "name": "stdout",
          "text": [
            "Matriz de Cholesky:\n",
            "[[  2.  12. -16.]\n",
            " [  6.   1. -43.]\n",
            " [ -8.   5.   3.]]\n",
            "\n",
            "Determinante: 36.0\n",
            "\n",
            "Info: 0\n"
          ]
        }
      ]
    },
    {
      "cell_type": "markdown",
      "metadata": {
        "id": "jAtvdHO0rrnK"
      },
      "source": [
        "#Questão 1"
      ]
    },
    {
      "cell_type": "markdown",
      "metadata": {
        "id": "K4tOmcRjAtQs"
      },
      "source": [
        "#Questão 2\n"
      ]
    },
    {
      "cell_type": "markdown",
      "metadata": {
        "id": "kevcueT4IBuF"
      },
      "source": [
        "#Questão 3"
      ]
    },
    {
      "cell_type": "markdown",
      "metadata": {
        "id": "x1XjppBtItm7"
      },
      "source": [
        "#Questão 4"
      ]
    },
    {
      "cell_type": "markdown",
      "metadata": {
        "id": "jRSPOzXVI_-m"
      },
      "source": [
        "#Questão 5"
      ]
    }
  ],
  "metadata": {
    "colab": {
      "provenance": [],
      "authorship_tag": "ABX9TyOjlpcvaIg9mTQ+1ZDJ2hWi",
      "include_colab_link": true
    },
    "kernelspec": {
      "display_name": "Python 3",
      "name": "python3"
    },
    "language_info": {
      "name": "python"
    }
  },
  "nbformat": 4,
  "nbformat_minor": 0
}